{
 "cells": [
  {
   "cell_type": "markdown",
   "metadata": {},
   "source": [
    "Add Two Numbers\n"
   ]
  },
  {
   "cell_type": "code",
   "execution_count": 1,
   "metadata": {},
   "outputs": [],
   "source": [
    "def solution(num1, num2):\n",
    "    return num1+num2\n"
   ]
  },
  {
   "cell_type": "code",
   "execution_count": 3,
   "metadata": {},
   "outputs": [
    {
     "name": "stdout",
     "output_type": "stream",
     "text": [
      "All test cases passed\n"
     ]
    }
   ],
   "source": [
    "from nose.tools import assert_equal\n",
    "#nose is testing library\n",
    "\n",
    "\n",
    "class SolutionTest(object):\n",
    "    def test(self, sol):\n",
    "        assert_equal(sol(2,2), 4)\n",
    "        assert_equal(sol(4,4), 8)\n",
    "        \n",
    "        print(\"All test cases passed\")\n",
    "        \n",
    "\n",
    "#Run Tests\n",
    "t = SolutionTest()\n",
    "t.test(solution)"
   ]
  },
  {
   "cell_type": "code",
   "execution_count": null,
   "metadata": {},
   "outputs": [],
   "source": []
  }
 ],
 "metadata": {
  "kernelspec": {
   "display_name": "Python 3",
   "language": "python",
   "name": "python3"
  },
  "language_info": {
   "codemirror_mode": {
    "name": "ipython",
    "version": 3
   },
   "file_extension": ".py",
   "mimetype": "text/x-python",
   "name": "python",
   "nbconvert_exporter": "python",
   "pygments_lexer": "ipython3",
   "version": "3.6.5"
  }
 },
 "nbformat": 4,
 "nbformat_minor": 2
}
